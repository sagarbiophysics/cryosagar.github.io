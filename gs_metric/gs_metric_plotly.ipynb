{
 "cells": [
  {
   "cell_type": "code",
   "execution_count": null,
   "id": "01aaccda-657f-40a3-a9d2-2658e573249f",
   "metadata": {},
   "outputs": [],
   "source": []
  },
  {
   "cell_type": "code",
   "execution_count": 1,
   "id": "f5e8e53a-a71c-401a-9dab-842db8eb548c",
   "metadata": {},
   "outputs": [],
   "source": [
    "# 1) Install prerequisites (if you haven’t already):\n",
    "#    pip install scholarly pandas plotly\n",
    "\n",
    "import datetime\n",
    "import pandas as pd\n",
    "import plotly.graph_objects as go\n",
    "from scholarly import scholarly\n",
    "\n"
   ]
  },
  {
   "cell_type": "code",
   "execution_count": 2,
   "id": "205ee962-437a-47f0-a321-521a5eccb224",
   "metadata": {},
   "outputs": [],
   "source": [
    "\n",
    "# ——— CONFIG ———\n",
    "GOOGLE_SCHOLAR_ID = \"KYEJ7WkAAAAJ\"  # e.g. 'mIoTjx0AAAAJ'\n",
    "# ———————"
   ]
  },
  {
   "cell_type": "code",
   "execution_count": 3,
   "id": "277082df-e6e6-48c5-9c4f-2ccd27d723cc",
   "metadata": {},
   "outputs": [
    {
     "name": "stdout",
     "output_type": "stream",
     "text": [
      "Available keys: ['container_type', 'filled', 'scholar_id', 'source', 'name', 'url_picture', 'affiliation', 'organization', 'interests', 'email_domain', 'citedby', 'publications', 'citedby5y', 'hindex', 'hindex5y', 'i10index', 'i10index5y', 'cites_per_year']\n"
     ]
    }
   ],
   "source": [
    "# 2) Fetch and fill your author profile\n",
    "author = scholarly.search_author_id(GOOGLE_SCHOLAR_ID)\n",
    "author = scholarly.fill(author, sections=[\"indices\", \"counts\", \"publications\"])\n",
    "\n",
    "# 3) Inspect what came back\n",
    "print(\"Available keys:\", list(author.keys()))"
   ]
  },
  {
   "cell_type": "code",
   "execution_count": 4,
   "id": "4d353d52-8950-4845-bb98-a84af6b8c58c",
   "metadata": {},
   "outputs": [
    {
     "data": {
      "application/vnd.plotly.v1+json": {
       "config": {
        "plotlyServerURL": "https://plot.ly"
       },
       "data": [
        {
         "mode": "lines+markers",
         "name": "H-index",
         "type": "scatter",
         "x": {
          "bdata": "4AfhB+IH4wfkB+UH5gfnB+gH6Qc=",
          "dtype": "i2"
         },
         "y": {
          "bdata": "AQMDAwQFBggLCw==",
          "dtype": "i1"
         }
        },
        {
         "name": "Total citations",
         "opacity": 0.6,
         "type": "bar",
         "x": {
          "bdata": "4AfhB+IH4wfkB+UH5gfnB+gH6Qc=",
          "dtype": "i2"
         },
         "y": {
          "bdata": "AAAAAAAA+H8AAAAAAAAIQAAAAAAAAAhAAAAAAAAAEEAAAAAAAAAIQAAAAAAAACZAAAAAAAAAQkAAAAAAAEBQQAAAAAAAQF5AAAAAAAAAXUA=",
          "dtype": "f8"
         }
        }
       ],
       "layout": {
        "bargap": 0.2,
        "legend": {
         "orientation": "h",
         "x": 1,
         "xanchor": "right",
         "y": 1.02,
         "yanchor": "bottom"
        },
        "template": {
         "data": {
          "bar": [
           {
            "error_x": {
             "color": "#2a3f5f"
            },
            "error_y": {
             "color": "#2a3f5f"
            },
            "marker": {
             "line": {
              "color": "#E5ECF6",
              "width": 0.5
             },
             "pattern": {
              "fillmode": "overlay",
              "size": 10,
              "solidity": 0.2
             }
            },
            "type": "bar"
           }
          ],
          "barpolar": [
           {
            "marker": {
             "line": {
              "color": "#E5ECF6",
              "width": 0.5
             },
             "pattern": {
              "fillmode": "overlay",
              "size": 10,
              "solidity": 0.2
             }
            },
            "type": "barpolar"
           }
          ],
          "carpet": [
           {
            "aaxis": {
             "endlinecolor": "#2a3f5f",
             "gridcolor": "white",
             "linecolor": "white",
             "minorgridcolor": "white",
             "startlinecolor": "#2a3f5f"
            },
            "baxis": {
             "endlinecolor": "#2a3f5f",
             "gridcolor": "white",
             "linecolor": "white",
             "minorgridcolor": "white",
             "startlinecolor": "#2a3f5f"
            },
            "type": "carpet"
           }
          ],
          "choropleth": [
           {
            "colorbar": {
             "outlinewidth": 0,
             "ticks": ""
            },
            "type": "choropleth"
           }
          ],
          "contour": [
           {
            "colorbar": {
             "outlinewidth": 0,
             "ticks": ""
            },
            "colorscale": [
             [
              0,
              "#0d0887"
             ],
             [
              0.1111111111111111,
              "#46039f"
             ],
             [
              0.2222222222222222,
              "#7201a8"
             ],
             [
              0.3333333333333333,
              "#9c179e"
             ],
             [
              0.4444444444444444,
              "#bd3786"
             ],
             [
              0.5555555555555556,
              "#d8576b"
             ],
             [
              0.6666666666666666,
              "#ed7953"
             ],
             [
              0.7777777777777778,
              "#fb9f3a"
             ],
             [
              0.8888888888888888,
              "#fdca26"
             ],
             [
              1,
              "#f0f921"
             ]
            ],
            "type": "contour"
           }
          ],
          "contourcarpet": [
           {
            "colorbar": {
             "outlinewidth": 0,
             "ticks": ""
            },
            "type": "contourcarpet"
           }
          ],
          "heatmap": [
           {
            "colorbar": {
             "outlinewidth": 0,
             "ticks": ""
            },
            "colorscale": [
             [
              0,
              "#0d0887"
             ],
             [
              0.1111111111111111,
              "#46039f"
             ],
             [
              0.2222222222222222,
              "#7201a8"
             ],
             [
              0.3333333333333333,
              "#9c179e"
             ],
             [
              0.4444444444444444,
              "#bd3786"
             ],
             [
              0.5555555555555556,
              "#d8576b"
             ],
             [
              0.6666666666666666,
              "#ed7953"
             ],
             [
              0.7777777777777778,
              "#fb9f3a"
             ],
             [
              0.8888888888888888,
              "#fdca26"
             ],
             [
              1,
              "#f0f921"
             ]
            ],
            "type": "heatmap"
           }
          ],
          "histogram": [
           {
            "marker": {
             "pattern": {
              "fillmode": "overlay",
              "size": 10,
              "solidity": 0.2
             }
            },
            "type": "histogram"
           }
          ],
          "histogram2d": [
           {
            "colorbar": {
             "outlinewidth": 0,
             "ticks": ""
            },
            "colorscale": [
             [
              0,
              "#0d0887"
             ],
             [
              0.1111111111111111,
              "#46039f"
             ],
             [
              0.2222222222222222,
              "#7201a8"
             ],
             [
              0.3333333333333333,
              "#9c179e"
             ],
             [
              0.4444444444444444,
              "#bd3786"
             ],
             [
              0.5555555555555556,
              "#d8576b"
             ],
             [
              0.6666666666666666,
              "#ed7953"
             ],
             [
              0.7777777777777778,
              "#fb9f3a"
             ],
             [
              0.8888888888888888,
              "#fdca26"
             ],
             [
              1,
              "#f0f921"
             ]
            ],
            "type": "histogram2d"
           }
          ],
          "histogram2dcontour": [
           {
            "colorbar": {
             "outlinewidth": 0,
             "ticks": ""
            },
            "colorscale": [
             [
              0,
              "#0d0887"
             ],
             [
              0.1111111111111111,
              "#46039f"
             ],
             [
              0.2222222222222222,
              "#7201a8"
             ],
             [
              0.3333333333333333,
              "#9c179e"
             ],
             [
              0.4444444444444444,
              "#bd3786"
             ],
             [
              0.5555555555555556,
              "#d8576b"
             ],
             [
              0.6666666666666666,
              "#ed7953"
             ],
             [
              0.7777777777777778,
              "#fb9f3a"
             ],
             [
              0.8888888888888888,
              "#fdca26"
             ],
             [
              1,
              "#f0f921"
             ]
            ],
            "type": "histogram2dcontour"
           }
          ],
          "mesh3d": [
           {
            "colorbar": {
             "outlinewidth": 0,
             "ticks": ""
            },
            "type": "mesh3d"
           }
          ],
          "parcoords": [
           {
            "line": {
             "colorbar": {
              "outlinewidth": 0,
              "ticks": ""
             }
            },
            "type": "parcoords"
           }
          ],
          "pie": [
           {
            "automargin": true,
            "type": "pie"
           }
          ],
          "scatter": [
           {
            "fillpattern": {
             "fillmode": "overlay",
             "size": 10,
             "solidity": 0.2
            },
            "type": "scatter"
           }
          ],
          "scatter3d": [
           {
            "line": {
             "colorbar": {
              "outlinewidth": 0,
              "ticks": ""
             }
            },
            "marker": {
             "colorbar": {
              "outlinewidth": 0,
              "ticks": ""
             }
            },
            "type": "scatter3d"
           }
          ],
          "scattercarpet": [
           {
            "marker": {
             "colorbar": {
              "outlinewidth": 0,
              "ticks": ""
             }
            },
            "type": "scattercarpet"
           }
          ],
          "scattergeo": [
           {
            "marker": {
             "colorbar": {
              "outlinewidth": 0,
              "ticks": ""
             }
            },
            "type": "scattergeo"
           }
          ],
          "scattergl": [
           {
            "marker": {
             "colorbar": {
              "outlinewidth": 0,
              "ticks": ""
             }
            },
            "type": "scattergl"
           }
          ],
          "scattermap": [
           {
            "marker": {
             "colorbar": {
              "outlinewidth": 0,
              "ticks": ""
             }
            },
            "type": "scattermap"
           }
          ],
          "scattermapbox": [
           {
            "marker": {
             "colorbar": {
              "outlinewidth": 0,
              "ticks": ""
             }
            },
            "type": "scattermapbox"
           }
          ],
          "scatterpolar": [
           {
            "marker": {
             "colorbar": {
              "outlinewidth": 0,
              "ticks": ""
             }
            },
            "type": "scatterpolar"
           }
          ],
          "scatterpolargl": [
           {
            "marker": {
             "colorbar": {
              "outlinewidth": 0,
              "ticks": ""
             }
            },
            "type": "scatterpolargl"
           }
          ],
          "scatterternary": [
           {
            "marker": {
             "colorbar": {
              "outlinewidth": 0,
              "ticks": ""
             }
            },
            "type": "scatterternary"
           }
          ],
          "surface": [
           {
            "colorbar": {
             "outlinewidth": 0,
             "ticks": ""
            },
            "colorscale": [
             [
              0,
              "#0d0887"
             ],
             [
              0.1111111111111111,
              "#46039f"
             ],
             [
              0.2222222222222222,
              "#7201a8"
             ],
             [
              0.3333333333333333,
              "#9c179e"
             ],
             [
              0.4444444444444444,
              "#bd3786"
             ],
             [
              0.5555555555555556,
              "#d8576b"
             ],
             [
              0.6666666666666666,
              "#ed7953"
             ],
             [
              0.7777777777777778,
              "#fb9f3a"
             ],
             [
              0.8888888888888888,
              "#fdca26"
             ],
             [
              1,
              "#f0f921"
             ]
            ],
            "type": "surface"
           }
          ],
          "table": [
           {
            "cells": {
             "fill": {
              "color": "#EBF0F8"
             },
             "line": {
              "color": "white"
             }
            },
            "header": {
             "fill": {
              "color": "#C8D4E3"
             },
             "line": {
              "color": "white"
             }
            },
            "type": "table"
           }
          ]
         },
         "layout": {
          "annotationdefaults": {
           "arrowcolor": "#2a3f5f",
           "arrowhead": 0,
           "arrowwidth": 1
          },
          "autotypenumbers": "strict",
          "coloraxis": {
           "colorbar": {
            "outlinewidth": 0,
            "ticks": ""
           }
          },
          "colorscale": {
           "diverging": [
            [
             0,
             "#8e0152"
            ],
            [
             0.1,
             "#c51b7d"
            ],
            [
             0.2,
             "#de77ae"
            ],
            [
             0.3,
             "#f1b6da"
            ],
            [
             0.4,
             "#fde0ef"
            ],
            [
             0.5,
             "#f7f7f7"
            ],
            [
             0.6,
             "#e6f5d0"
            ],
            [
             0.7,
             "#b8e186"
            ],
            [
             0.8,
             "#7fbc41"
            ],
            [
             0.9,
             "#4d9221"
            ],
            [
             1,
             "#276419"
            ]
           ],
           "sequential": [
            [
             0,
             "#0d0887"
            ],
            [
             0.1111111111111111,
             "#46039f"
            ],
            [
             0.2222222222222222,
             "#7201a8"
            ],
            [
             0.3333333333333333,
             "#9c179e"
            ],
            [
             0.4444444444444444,
             "#bd3786"
            ],
            [
             0.5555555555555556,
             "#d8576b"
            ],
            [
             0.6666666666666666,
             "#ed7953"
            ],
            [
             0.7777777777777778,
             "#fb9f3a"
            ],
            [
             0.8888888888888888,
             "#fdca26"
            ],
            [
             1,
             "#f0f921"
            ]
           ],
           "sequentialminus": [
            [
             0,
             "#0d0887"
            ],
            [
             0.1111111111111111,
             "#46039f"
            ],
            [
             0.2222222222222222,
             "#7201a8"
            ],
            [
             0.3333333333333333,
             "#9c179e"
            ],
            [
             0.4444444444444444,
             "#bd3786"
            ],
            [
             0.5555555555555556,
             "#d8576b"
            ],
            [
             0.6666666666666666,
             "#ed7953"
            ],
            [
             0.7777777777777778,
             "#fb9f3a"
            ],
            [
             0.8888888888888888,
             "#fdca26"
            ],
            [
             1,
             "#f0f921"
            ]
           ]
          },
          "colorway": [
           "#636efa",
           "#EF553B",
           "#00cc96",
           "#ab63fa",
           "#FFA15A",
           "#19d3f3",
           "#FF6692",
           "#B6E880",
           "#FF97FF",
           "#FECB52"
          ],
          "font": {
           "color": "#2a3f5f"
          },
          "geo": {
           "bgcolor": "white",
           "lakecolor": "white",
           "landcolor": "#E5ECF6",
           "showlakes": true,
           "showland": true,
           "subunitcolor": "white"
          },
          "hoverlabel": {
           "align": "left"
          },
          "hovermode": "closest",
          "mapbox": {
           "style": "light"
          },
          "paper_bgcolor": "white",
          "plot_bgcolor": "#E5ECF6",
          "polar": {
           "angularaxis": {
            "gridcolor": "white",
            "linecolor": "white",
            "ticks": ""
           },
           "bgcolor": "#E5ECF6",
           "radialaxis": {
            "gridcolor": "white",
            "linecolor": "white",
            "ticks": ""
           }
          },
          "scene": {
           "xaxis": {
            "backgroundcolor": "#E5ECF6",
            "gridcolor": "white",
            "gridwidth": 2,
            "linecolor": "white",
            "showbackground": true,
            "ticks": "",
            "zerolinecolor": "white"
           },
           "yaxis": {
            "backgroundcolor": "#E5ECF6",
            "gridcolor": "white",
            "gridwidth": 2,
            "linecolor": "white",
            "showbackground": true,
            "ticks": "",
            "zerolinecolor": "white"
           },
           "zaxis": {
            "backgroundcolor": "#E5ECF6",
            "gridcolor": "white",
            "gridwidth": 2,
            "linecolor": "white",
            "showbackground": true,
            "ticks": "",
            "zerolinecolor": "white"
           }
          },
          "shapedefaults": {
           "line": {
            "color": "#2a3f5f"
           }
          },
          "ternary": {
           "aaxis": {
            "gridcolor": "white",
            "linecolor": "white",
            "ticks": ""
           },
           "baxis": {
            "gridcolor": "white",
            "linecolor": "white",
            "ticks": ""
           },
           "bgcolor": "#E5ECF6",
           "caxis": {
            "gridcolor": "white",
            "linecolor": "white",
            "ticks": ""
           }
          },
          "title": {
           "x": 0.05
          },
          "xaxis": {
           "automargin": true,
           "gridcolor": "white",
           "linecolor": "white",
           "ticks": "",
           "title": {
            "standoff": 15
           },
           "zerolinecolor": "white",
           "zerolinewidth": 2
          },
          "yaxis": {
           "automargin": true,
           "gridcolor": "white",
           "linecolor": "white",
           "ticks": "",
           "title": {
            "standoff": 15
           },
           "zerolinecolor": "white",
           "zerolinewidth": 2
          }
         }
        },
        "title": {
         "text": "Google Scholar Metrics – As of 2025-07-21"
        },
        "xaxis": {
         "title": {
          "text": "Year"
         }
        },
        "yaxis": {
         "title": {
          "text": "Count"
         }
        }
       }
      }
     },
     "metadata": {},
     "output_type": "display_data"
    }
   ],
   "source": [
    "# 3) Build a DataFrame of total citations per year\n",
    "cites_dict = author.get(\"cites_per_year\", {})     # {\"2017\": 3, \"2018\": 3, …}\n",
    "cites_df = (\n",
    "    pd.DataFrame([{\"year\": int(y), \"value_cites\": v}\n",
    "                  for y, v in cites_dict.items()])\n",
    "    .sort_values(\"year\")\n",
    ")\n",
    "\n",
    "# 4) Build a DataFrame of your publications (year + citations)\n",
    "pub_rows = []\n",
    "for p in author.get(\"publications\", []):\n",
    "    bib   = p.get(\"bib\", {})\n",
    "    year  = bib.get(\"pub_year\") or bib.get(\"year\")\n",
    "    if not year:\n",
    "        continue\n",
    "    try:\n",
    "        year = int(year)\n",
    "    except:\n",
    "        continue\n",
    "    cit = p.get(\"num_citations\", 0)\n",
    "    pub_rows.append({\"year\": year, \"citations\": cit})\n",
    "\n",
    "pubs_df = pd.DataFrame(pub_rows)\n",
    "\n",
    "# 5) Compute h-index **at the end of each year**:\n",
    "years = sorted(set(cites_df[\"year\"]).union(pubs_df[\"year\"]))\n",
    "h_list = []\n",
    "for yr in years:\n",
    "    # all pubs up through that year\n",
    "    subset = pubs_df[pubs_df[\"year\"] <= yr][\"citations\"].tolist()\n",
    "    subset.sort(reverse=True)\n",
    "    h = 0\n",
    "    for i, c in enumerate(subset, start=1):\n",
    "        if c >= i:\n",
    "            h = i\n",
    "        else:\n",
    "            break\n",
    "    h_list.append({\"year\": yr, \"value_hidx\": h})\n",
    "\n",
    "h_df = pd.DataFrame(h_list)\n",
    "\n",
    "# 6) Merge the two series\n",
    "df = pd.merge(h_df, cites_df, on=\"year\", how=\"outer\").sort_values(\"year\")\n",
    "\n",
    "# 7) Plot with Plotly\n",
    "today = datetime.date.today().isoformat()\n",
    "fig = go.Figure()\n",
    "\n",
    "# h-index line\n",
    "fig.add_trace(go.Scatter(\n",
    "    x=df[\"year\"],\n",
    "    y=df[\"value_hidx\"],\n",
    "    mode=\"lines+markers\",\n",
    "    name=\"H-index\"\n",
    "))\n",
    "\n",
    "# citation bars\n",
    "fig.add_trace(go.Bar(\n",
    "    x=df[\"year\"],\n",
    "    y=df[\"value_cites\"],\n",
    "    name=\"Total citations\",\n",
    "    opacity=0.6\n",
    "))\n",
    "\n",
    "fig.update_layout(\n",
    "    title=f\"Google Scholar Metrics – As of {today}\",\n",
    "    xaxis_title=\"Year\",\n",
    "    yaxis_title=\"Count\",\n",
    "    legend=dict(orientation=\"h\", yanchor=\"bottom\", y=1.02, xanchor=\"right\", x=1),\n",
    "    bargap=0.2\n",
    ")\n",
    "\n",
    "fig.show()\n",
    "# — or — \n",
    "# fig.write_html(\"gs_metrics.html\")"
   ]
  },
  {
   "cell_type": "code",
   "execution_count": 5,
   "id": "936a9627-37bd-4169-827c-b995782c7fd8",
   "metadata": {},
   "outputs": [
    {
     "data": {
      "application/vnd.plotly.v1+json": {
       "config": {
        "plotlyServerURL": "https://plot.ly"
       },
       "data": [
        {
         "mode": "lines+markers",
         "name": "H-index",
         "type": "scatter",
         "x": {
          "bdata": "4AfhB+IH4wfkB+UH5gfnB+gH6Qc=",
          "dtype": "i2"
         },
         "y": {
          "bdata": "AQMDAwQFBggLCw==",
          "dtype": "i1"
         }
        },
        {
         "name": "Total citations",
         "opacity": 0.6,
         "type": "bar",
         "x": {
          "bdata": "4AfhB+IH4wfkB+UH5gfnB+gH6Qc=",
          "dtype": "i2"
         },
         "y": {
          "bdata": "AAAAAAAA+H8AAAAAAAAIQAAAAAAAAAhAAAAAAAAAEEAAAAAAAAAIQAAAAAAAACZAAAAAAAAAQkAAAAAAAEBQQAAAAAAAQF5AAAAAAAAAXUA=",
          "dtype": "f8"
         }
        }
       ],
       "layout": {
        "bargap": 0.2,
        "legend": {
         "orientation": "h",
         "x": 1,
         "xanchor": "right",
         "y": 1.02,
         "yanchor": "bottom"
        },
        "template": {
         "data": {
          "bar": [
           {
            "error_x": {
             "color": "#2a3f5f"
            },
            "error_y": {
             "color": "#2a3f5f"
            },
            "marker": {
             "line": {
              "color": "#E5ECF6",
              "width": 0.5
             },
             "pattern": {
              "fillmode": "overlay",
              "size": 10,
              "solidity": 0.2
             }
            },
            "type": "bar"
           }
          ],
          "barpolar": [
           {
            "marker": {
             "line": {
              "color": "#E5ECF6",
              "width": 0.5
             },
             "pattern": {
              "fillmode": "overlay",
              "size": 10,
              "solidity": 0.2
             }
            },
            "type": "barpolar"
           }
          ],
          "carpet": [
           {
            "aaxis": {
             "endlinecolor": "#2a3f5f",
             "gridcolor": "white",
             "linecolor": "white",
             "minorgridcolor": "white",
             "startlinecolor": "#2a3f5f"
            },
            "baxis": {
             "endlinecolor": "#2a3f5f",
             "gridcolor": "white",
             "linecolor": "white",
             "minorgridcolor": "white",
             "startlinecolor": "#2a3f5f"
            },
            "type": "carpet"
           }
          ],
          "choropleth": [
           {
            "colorbar": {
             "outlinewidth": 0,
             "ticks": ""
            },
            "type": "choropleth"
           }
          ],
          "contour": [
           {
            "colorbar": {
             "outlinewidth": 0,
             "ticks": ""
            },
            "colorscale": [
             [
              0,
              "#0d0887"
             ],
             [
              0.1111111111111111,
              "#46039f"
             ],
             [
              0.2222222222222222,
              "#7201a8"
             ],
             [
              0.3333333333333333,
              "#9c179e"
             ],
             [
              0.4444444444444444,
              "#bd3786"
             ],
             [
              0.5555555555555556,
              "#d8576b"
             ],
             [
              0.6666666666666666,
              "#ed7953"
             ],
             [
              0.7777777777777778,
              "#fb9f3a"
             ],
             [
              0.8888888888888888,
              "#fdca26"
             ],
             [
              1,
              "#f0f921"
             ]
            ],
            "type": "contour"
           }
          ],
          "contourcarpet": [
           {
            "colorbar": {
             "outlinewidth": 0,
             "ticks": ""
            },
            "type": "contourcarpet"
           }
          ],
          "heatmap": [
           {
            "colorbar": {
             "outlinewidth": 0,
             "ticks": ""
            },
            "colorscale": [
             [
              0,
              "#0d0887"
             ],
             [
              0.1111111111111111,
              "#46039f"
             ],
             [
              0.2222222222222222,
              "#7201a8"
             ],
             [
              0.3333333333333333,
              "#9c179e"
             ],
             [
              0.4444444444444444,
              "#bd3786"
             ],
             [
              0.5555555555555556,
              "#d8576b"
             ],
             [
              0.6666666666666666,
              "#ed7953"
             ],
             [
              0.7777777777777778,
              "#fb9f3a"
             ],
             [
              0.8888888888888888,
              "#fdca26"
             ],
             [
              1,
              "#f0f921"
             ]
            ],
            "type": "heatmap"
           }
          ],
          "histogram": [
           {
            "marker": {
             "pattern": {
              "fillmode": "overlay",
              "size": 10,
              "solidity": 0.2
             }
            },
            "type": "histogram"
           }
          ],
          "histogram2d": [
           {
            "colorbar": {
             "outlinewidth": 0,
             "ticks": ""
            },
            "colorscale": [
             [
              0,
              "#0d0887"
             ],
             [
              0.1111111111111111,
              "#46039f"
             ],
             [
              0.2222222222222222,
              "#7201a8"
             ],
             [
              0.3333333333333333,
              "#9c179e"
             ],
             [
              0.4444444444444444,
              "#bd3786"
             ],
             [
              0.5555555555555556,
              "#d8576b"
             ],
             [
              0.6666666666666666,
              "#ed7953"
             ],
             [
              0.7777777777777778,
              "#fb9f3a"
             ],
             [
              0.8888888888888888,
              "#fdca26"
             ],
             [
              1,
              "#f0f921"
             ]
            ],
            "type": "histogram2d"
           }
          ],
          "histogram2dcontour": [
           {
            "colorbar": {
             "outlinewidth": 0,
             "ticks": ""
            },
            "colorscale": [
             [
              0,
              "#0d0887"
             ],
             [
              0.1111111111111111,
              "#46039f"
             ],
             [
              0.2222222222222222,
              "#7201a8"
             ],
             [
              0.3333333333333333,
              "#9c179e"
             ],
             [
              0.4444444444444444,
              "#bd3786"
             ],
             [
              0.5555555555555556,
              "#d8576b"
             ],
             [
              0.6666666666666666,
              "#ed7953"
             ],
             [
              0.7777777777777778,
              "#fb9f3a"
             ],
             [
              0.8888888888888888,
              "#fdca26"
             ],
             [
              1,
              "#f0f921"
             ]
            ],
            "type": "histogram2dcontour"
           }
          ],
          "mesh3d": [
           {
            "colorbar": {
             "outlinewidth": 0,
             "ticks": ""
            },
            "type": "mesh3d"
           }
          ],
          "parcoords": [
           {
            "line": {
             "colorbar": {
              "outlinewidth": 0,
              "ticks": ""
             }
            },
            "type": "parcoords"
           }
          ],
          "pie": [
           {
            "automargin": true,
            "type": "pie"
           }
          ],
          "scatter": [
           {
            "fillpattern": {
             "fillmode": "overlay",
             "size": 10,
             "solidity": 0.2
            },
            "type": "scatter"
           }
          ],
          "scatter3d": [
           {
            "line": {
             "colorbar": {
              "outlinewidth": 0,
              "ticks": ""
             }
            },
            "marker": {
             "colorbar": {
              "outlinewidth": 0,
              "ticks": ""
             }
            },
            "type": "scatter3d"
           }
          ],
          "scattercarpet": [
           {
            "marker": {
             "colorbar": {
              "outlinewidth": 0,
              "ticks": ""
             }
            },
            "type": "scattercarpet"
           }
          ],
          "scattergeo": [
           {
            "marker": {
             "colorbar": {
              "outlinewidth": 0,
              "ticks": ""
             }
            },
            "type": "scattergeo"
           }
          ],
          "scattergl": [
           {
            "marker": {
             "colorbar": {
              "outlinewidth": 0,
              "ticks": ""
             }
            },
            "type": "scattergl"
           }
          ],
          "scattermap": [
           {
            "marker": {
             "colorbar": {
              "outlinewidth": 0,
              "ticks": ""
             }
            },
            "type": "scattermap"
           }
          ],
          "scattermapbox": [
           {
            "marker": {
             "colorbar": {
              "outlinewidth": 0,
              "ticks": ""
             }
            },
            "type": "scattermapbox"
           }
          ],
          "scatterpolar": [
           {
            "marker": {
             "colorbar": {
              "outlinewidth": 0,
              "ticks": ""
             }
            },
            "type": "scatterpolar"
           }
          ],
          "scatterpolargl": [
           {
            "marker": {
             "colorbar": {
              "outlinewidth": 0,
              "ticks": ""
             }
            },
            "type": "scatterpolargl"
           }
          ],
          "scatterternary": [
           {
            "marker": {
             "colorbar": {
              "outlinewidth": 0,
              "ticks": ""
             }
            },
            "type": "scatterternary"
           }
          ],
          "surface": [
           {
            "colorbar": {
             "outlinewidth": 0,
             "ticks": ""
            },
            "colorscale": [
             [
              0,
              "#0d0887"
             ],
             [
              0.1111111111111111,
              "#46039f"
             ],
             [
              0.2222222222222222,
              "#7201a8"
             ],
             [
              0.3333333333333333,
              "#9c179e"
             ],
             [
              0.4444444444444444,
              "#bd3786"
             ],
             [
              0.5555555555555556,
              "#d8576b"
             ],
             [
              0.6666666666666666,
              "#ed7953"
             ],
             [
              0.7777777777777778,
              "#fb9f3a"
             ],
             [
              0.8888888888888888,
              "#fdca26"
             ],
             [
              1,
              "#f0f921"
             ]
            ],
            "type": "surface"
           }
          ],
          "table": [
           {
            "cells": {
             "fill": {
              "color": "#EBF0F8"
             },
             "line": {
              "color": "white"
             }
            },
            "header": {
             "fill": {
              "color": "#C8D4E3"
             },
             "line": {
              "color": "white"
             }
            },
            "type": "table"
           }
          ]
         },
         "layout": {
          "annotationdefaults": {
           "arrowcolor": "#2a3f5f",
           "arrowhead": 0,
           "arrowwidth": 1
          },
          "autotypenumbers": "strict",
          "coloraxis": {
           "colorbar": {
            "outlinewidth": 0,
            "ticks": ""
           }
          },
          "colorscale": {
           "diverging": [
            [
             0,
             "#8e0152"
            ],
            [
             0.1,
             "#c51b7d"
            ],
            [
             0.2,
             "#de77ae"
            ],
            [
             0.3,
             "#f1b6da"
            ],
            [
             0.4,
             "#fde0ef"
            ],
            [
             0.5,
             "#f7f7f7"
            ],
            [
             0.6,
             "#e6f5d0"
            ],
            [
             0.7,
             "#b8e186"
            ],
            [
             0.8,
             "#7fbc41"
            ],
            [
             0.9,
             "#4d9221"
            ],
            [
             1,
             "#276419"
            ]
           ],
           "sequential": [
            [
             0,
             "#0d0887"
            ],
            [
             0.1111111111111111,
             "#46039f"
            ],
            [
             0.2222222222222222,
             "#7201a8"
            ],
            [
             0.3333333333333333,
             "#9c179e"
            ],
            [
             0.4444444444444444,
             "#bd3786"
            ],
            [
             0.5555555555555556,
             "#d8576b"
            ],
            [
             0.6666666666666666,
             "#ed7953"
            ],
            [
             0.7777777777777778,
             "#fb9f3a"
            ],
            [
             0.8888888888888888,
             "#fdca26"
            ],
            [
             1,
             "#f0f921"
            ]
           ],
           "sequentialminus": [
            [
             0,
             "#0d0887"
            ],
            [
             0.1111111111111111,
             "#46039f"
            ],
            [
             0.2222222222222222,
             "#7201a8"
            ],
            [
             0.3333333333333333,
             "#9c179e"
            ],
            [
             0.4444444444444444,
             "#bd3786"
            ],
            [
             0.5555555555555556,
             "#d8576b"
            ],
            [
             0.6666666666666666,
             "#ed7953"
            ],
            [
             0.7777777777777778,
             "#fb9f3a"
            ],
            [
             0.8888888888888888,
             "#fdca26"
            ],
            [
             1,
             "#f0f921"
            ]
           ]
          },
          "colorway": [
           "#636efa",
           "#EF553B",
           "#00cc96",
           "#ab63fa",
           "#FFA15A",
           "#19d3f3",
           "#FF6692",
           "#B6E880",
           "#FF97FF",
           "#FECB52"
          ],
          "font": {
           "color": "#2a3f5f"
          },
          "geo": {
           "bgcolor": "white",
           "lakecolor": "white",
           "landcolor": "#E5ECF6",
           "showlakes": true,
           "showland": true,
           "subunitcolor": "white"
          },
          "hoverlabel": {
           "align": "left"
          },
          "hovermode": "closest",
          "mapbox": {
           "style": "light"
          },
          "paper_bgcolor": "white",
          "plot_bgcolor": "#E5ECF6",
          "polar": {
           "angularaxis": {
            "gridcolor": "white",
            "linecolor": "white",
            "ticks": ""
           },
           "bgcolor": "#E5ECF6",
           "radialaxis": {
            "gridcolor": "white",
            "linecolor": "white",
            "ticks": ""
           }
          },
          "scene": {
           "xaxis": {
            "backgroundcolor": "#E5ECF6",
            "gridcolor": "white",
            "gridwidth": 2,
            "linecolor": "white",
            "showbackground": true,
            "ticks": "",
            "zerolinecolor": "white"
           },
           "yaxis": {
            "backgroundcolor": "#E5ECF6",
            "gridcolor": "white",
            "gridwidth": 2,
            "linecolor": "white",
            "showbackground": true,
            "ticks": "",
            "zerolinecolor": "white"
           },
           "zaxis": {
            "backgroundcolor": "#E5ECF6",
            "gridcolor": "white",
            "gridwidth": 2,
            "linecolor": "white",
            "showbackground": true,
            "ticks": "",
            "zerolinecolor": "white"
           }
          },
          "shapedefaults": {
           "line": {
            "color": "#2a3f5f"
           }
          },
          "ternary": {
           "aaxis": {
            "gridcolor": "white",
            "linecolor": "white",
            "ticks": ""
           },
           "baxis": {
            "gridcolor": "white",
            "linecolor": "white",
            "ticks": ""
           },
           "bgcolor": "#E5ECF6",
           "caxis": {
            "gridcolor": "white",
            "linecolor": "white",
            "ticks": ""
           }
          },
          "title": {
           "x": 0.05
          },
          "xaxis": {
           "automargin": true,
           "gridcolor": "white",
           "linecolor": "white",
           "ticks": "",
           "title": {
            "standoff": 15
           },
           "zerolinecolor": "white",
           "zerolinewidth": 2
          },
          "yaxis": {
           "automargin": true,
           "gridcolor": "white",
           "linecolor": "white",
           "ticks": "",
           "title": {
            "standoff": 15
           },
           "zerolinecolor": "white",
           "zerolinewidth": 2
          }
         }
        },
        "title": {
         "text": "Google Scholar Metrics – As of 2025-07-21"
        },
        "xaxis": {
         "title": {
          "text": "Year"
         }
        },
        "yaxis": {
         "title": {
          "text": "Count"
         }
        }
       }
      }
     },
     "metadata": {},
     "output_type": "display_data"
    }
   ],
   "source": [
    "fig.show()\n"
   ]
  },
  {
   "cell_type": "code",
   "execution_count": 6,
   "id": "4c377ebc-e2bc-41d2-b3f0-a028ed26db54",
   "metadata": {},
   "outputs": [],
   "source": [
    "fig.write_image(\"gs_metrics.png\", width=800, height=500)\n"
   ]
  },
  {
   "cell_type": "code",
   "execution_count": 10,
   "id": "e16110c2-045a-434f-8041-18465f9d91e7",
   "metadata": {},
   "outputs": [],
   "source": [
    "# 2) Citations per year + cumulative\n",
    "cites = author.get(\"cites_per_year\", {})\n",
    "cites_df = (\n",
    "    pd.DataFrame([{\"year\": int(y), \"per_year\": v} for y, v in cites.items()])\n",
    "      .sort_values(\"year\")\n",
    ")\n",
    "cites_df[\"cumulative\"] = cites_df[\"per_year\"].cumsum()\n",
    "\n",
    "# 3) Compute year-end h-index\n",
    "pubs = []\n",
    "for p in author[\"publications\"]:\n",
    "    bib = p.get(\"bib\", {})\n",
    "    y = bib.get(\"pub_year\") or bib.get(\"year\")\n",
    "    try:\n",
    "        year = int(y)\n",
    "    except:\n",
    "        continue\n",
    "    pubs.append({\"year\": year, \"citations\": p.get(\"num_citations\", 0)})\n",
    "pubs_df = pd.DataFrame(pubs)\n",
    "\n",
    "years = sorted(set(cites_df[\"year\"]).union(pubs_df[\"year\"]))\n",
    "h_list = []\n",
    "for yr in years:\n",
    "    cs = sorted(pubs_df[pubs_df[\"year\"] <= yr][\"citations\"], reverse=True)\n",
    "    h = sum(1 for i, c in enumerate(cs, 1) if c >= i)\n",
    "    h_list.append({\"year\": yr, \"h_index\": h})\n",
    "h_df = pd.DataFrame(h_list)\n",
    "\n",
    "# current (latest) h-index for the annotation\n",
    "current_h = int(h_df[\"h_index\"].max())\n",
    "\n",
    "# 4) Build figure\n",
    "today = datetime.date.today().isoformat()\n",
    "fig = go.Figure()\n",
    "\n",
    "# H-index trace\n",
    "fig.add_trace(go.Scatter(\n",
    "    x=h_df[\"year\"], y=h_df[\"h_index\"],\n",
    "    mode=\"lines+markers\", name=\"H-index\",\n",
    "    visible=False\n",
    "))\n",
    "# Citations per year\n",
    "fig.add_trace(go.Bar(\n",
    "    x=cites_df[\"year\"], y=cites_df[\"per_year\"],\n",
    "    name=\"Citations per year\", opacity=0.7,\n",
    "    visible=True\n",
    "))\n",
    "# Cumulative citations\n",
    "fig.add_trace(go.Scatter(\n",
    "    x=cites_df[\"year\"], y=cites_df[\"cumulative\"],\n",
    "    mode=\"lines+markers\", name=\"Cumulative citations\",\n",
    "    visible=True\n",
    "))\n",
    "\n",
    "# 5) Toggle buttons (H-index vs Citations)\n",
    "fig.update_layout(\n",
    "    template=\"none\",  # start from blank\n",
    "    paper_bgcolor=\"rgba(0,0,0,0)\",\n",
    "    plot_bgcolor=\"rgba(0,0,0,0)\",\n",
    "    title=f\"Google Scholar Metrics — As of {today}\",\n",
    "    xaxis=dict(\n",
    "        title=\"Year\",\n",
    "        showgrid=False,\n",
    "        showline=True,\n",
    "        linecolor=\"black\",\n",
    "        ticks=\"outside\"\n",
    "    ),\n",
    "    yaxis=dict(\n",
    "        title=\"Count\",\n",
    "        showgrid=False,\n",
    "        showline=True,\n",
    "        linecolor=\"black\",\n",
    "        ticks=\"outside\"\n",
    "    ),\n",
    "    updatemenus=[dict(\n",
    "        type=\"buttons\", direction=\"right\",\n",
    "        x=0.5, y=1.15, xanchor=\"center\",\n",
    "        buttons=[\n",
    "            dict(label=\"H-index\",\n",
    "                 method=\"update\",\n",
    "                 args=[{\"visible\": [True, False, False]},\n",
    "                       {\"yaxis\": {\"title\": \"H-index\"},\n",
    "                        \"title\": f\"H-index — As of {today}\"}]),\n",
    "            dict(label=\"Citations\",\n",
    "                 method=\"update\",\n",
    "                 args=[{\"visible\": [False, True, True]},\n",
    "                       {\"yaxis\": {\"title\": \"Citations\"},\n",
    "                        \"title\": f\"Citations — As of {today}\"}]),\n",
    "        ]\n",
    "    )],\n",
    "    margin=dict(l=60, r=20, t=80, b=50)\n",
    ")\n",
    "\n",
    "# 6) Add current h-index annotation (top-left)\n",
    "fig.add_annotation(\n",
    "    text=f\"Current h-index: <b>{current_h}</b>\",\n",
    "    xref=\"paper\", yref=\"paper\",\n",
    "    x=0.01, y=0.95,\n",
    "    showarrow=False,\n",
    "    font=dict(size=14)\n",
    ")\n",
    "\n",
    "# 7) Export standalone HTML\n",
    "fig.write_html(\"gs_metrics_toggle.html\", include_plotlyjs=\"cdn\")"
   ]
  },
  {
   "cell_type": "code",
   "execution_count": 15,
   "id": "bd974ada-5e85-44a8-90b4-a3e129e93a48",
   "metadata": {},
   "outputs": [
    {
     "ename": "ValueError",
     "evalue": "\n    Invalid value of type 'builtins.str' received for the 'linecolor' property of layout.xaxis\n        Received value: 'currentColor'\n\n    The 'linecolor' property is a color and may be specified as:\n      - A hex string (e.g. '#ff0000')\n      - An rgb/rgba string (e.g. 'rgb(255,0,0)')\n      - An hsl/hsla string (e.g. 'hsl(0,100%,50%)')\n      - An hsv/hsva string (e.g. 'hsv(0,100%,100%)')\n      - A named CSS color: see https://plotly.com/python/css-colors/ for a list",
     "output_type": "error",
     "traceback": [
      "\u001b[31m---------------------------------------------------------------------------\u001b[39m",
      "\u001b[31mValueError\u001b[39m                                Traceback (most recent call last)",
      "\u001b[36mCell\u001b[39m\u001b[36m \u001b[39m\u001b[32mIn[15]\u001b[39m\u001b[32m, line 82\u001b[39m\n\u001b[32m     71\u001b[39m fig.add_annotation(\n\u001b[32m     72\u001b[39m     text=\u001b[33mf\u001b[39m\u001b[33m\"\u001b[39m\u001b[33mH-index: <b>\u001b[39m\u001b[38;5;132;01m{\u001b[39;00mcurrent_h\u001b[38;5;132;01m}\u001b[39;00m\u001b[33m</b>\u001b[39m\u001b[33m\"\u001b[39m,\n\u001b[32m     73\u001b[39m     xref=\u001b[33m\"\u001b[39m\u001b[33mpaper\u001b[39m\u001b[33m\"\u001b[39m, yref=\u001b[33m\"\u001b[39m\u001b[33mpaper\u001b[39m\u001b[33m\"\u001b[39m,\n\u001b[32m   (...)\u001b[39m\u001b[32m     77\u001b[39m     align=\u001b[33m\"\u001b[39m\u001b[33mleft\u001b[39m\u001b[33m\"\u001b[39m\n\u001b[32m     78\u001b[39m )\n\u001b[32m     81\u001b[39m \u001b[38;5;66;03m# 2) Axes: no grid, crisp bounding box, inherit color\u001b[39;00m\n\u001b[32m---> \u001b[39m\u001b[32m82\u001b[39m fig.update_xaxes(\n\u001b[32m     83\u001b[39m     showgrid=\u001b[38;5;28;01mFalse\u001b[39;00m,\n\u001b[32m     84\u001b[39m     showline=\u001b[38;5;28;01mTrue\u001b[39;00m,\n\u001b[32m     85\u001b[39m     mirror=\u001b[38;5;28;01mTrue\u001b[39;00m,\n\u001b[32m     86\u001b[39m     linecolor=\u001b[33m\"\u001b[39m\u001b[33mcurrentColor\u001b[39m\u001b[33m\"\u001b[39m,\n\u001b[32m     87\u001b[39m     tickcolor=\u001b[33m\"\u001b[39m\u001b[33mcurrentColor\u001b[39m\u001b[33m\"\u001b[39m,\n\u001b[32m     88\u001b[39m     title_font=\u001b[38;5;28mdict\u001b[39m(color=\u001b[33m\"\u001b[39m\u001b[33mcurrentColor\u001b[39m\u001b[33m\"\u001b[39m),\n\u001b[32m     89\u001b[39m     tickfont=\u001b[38;5;28mdict\u001b[39m(color=\u001b[33m\"\u001b[39m\u001b[33mcurrentColor\u001b[39m\u001b[33m\"\u001b[39m)\n\u001b[32m     90\u001b[39m )\n\u001b[32m     91\u001b[39m fig.update_yaxes(\n\u001b[32m     92\u001b[39m     showgrid=\u001b[38;5;28;01mFalse\u001b[39;00m,\n\u001b[32m     93\u001b[39m     showline=\u001b[38;5;28;01mTrue\u001b[39;00m,\n\u001b[32m   (...)\u001b[39m\u001b[32m     98\u001b[39m     tickfont=\u001b[38;5;28mdict\u001b[39m(color=\u001b[33m\"\u001b[39m\u001b[33mcurrentColor\u001b[39m\u001b[33m\"\u001b[39m)\n\u001b[32m     99\u001b[39m )\n\u001b[32m    101\u001b[39m \u001b[38;5;66;03m# 3) Legend: inherit text color\u001b[39;00m\n",
      "\u001b[36mFile \u001b[39m\u001b[32m/opt/anaconda3/envs/academicpages/lib/python3.12/site-packages/plotly/graph_objs/_figure.py:22575\u001b[39m, in \u001b[36mFigure.update_xaxes\u001b[39m\u001b[34m(self, patch, selector, overwrite, row, col, **kwargs)\u001b[39m\n\u001b[32m  22536\u001b[39m \u001b[38;5;250m\u001b[39m\u001b[33;03m\"\"\"\u001b[39;00m\n\u001b[32m  22537\u001b[39m \u001b[33;03mPerform a property update operation on all xaxis objects\u001b[39;00m\n\u001b[32m  22538\u001b[39m \u001b[33;03mthat satisfy the specified selection criteria\u001b[39;00m\n\u001b[32m   (...)\u001b[39m\u001b[32m  22572\u001b[39m \u001b[33;03m    Returns the Figure object that the method was called on\u001b[39;00m\n\u001b[32m  22573\u001b[39m \u001b[33;03m\"\"\"\u001b[39;00m\n\u001b[32m  22574\u001b[39m \u001b[38;5;28;01mfor\u001b[39;00m obj \u001b[38;5;129;01min\u001b[39;00m \u001b[38;5;28mself\u001b[39m.select_xaxes(selector=selector, row=row, col=col):\n\u001b[32m> \u001b[39m\u001b[32m22575\u001b[39m     obj.update(patch, overwrite=overwrite, **kwargs)\n\u001b[32m  22577\u001b[39m \u001b[38;5;28;01mreturn\u001b[39;00m \u001b[38;5;28mself\u001b[39m\n",
      "\u001b[36mFile \u001b[39m\u001b[32m/opt/anaconda3/envs/academicpages/lib/python3.12/site-packages/plotly/basedatatypes.py:5195\u001b[39m, in \u001b[36mBasePlotlyType.update\u001b[39m\u001b[34m(self, dict1, overwrite, **kwargs)\u001b[39m\n\u001b[32m   5193\u001b[39m     \u001b[38;5;28;01mwith\u001b[39;00m \u001b[38;5;28mself\u001b[39m.figure.batch_update():\n\u001b[32m   5194\u001b[39m         BaseFigure._perform_update(\u001b[38;5;28mself\u001b[39m, dict1, overwrite=overwrite)\n\u001b[32m-> \u001b[39m\u001b[32m5195\u001b[39m         BaseFigure._perform_update(\u001b[38;5;28mself\u001b[39m, kwargs, overwrite=overwrite)\n\u001b[32m   5196\u001b[39m \u001b[38;5;28;01melse\u001b[39;00m:\n\u001b[32m   5197\u001b[39m     BaseFigure._perform_update(\u001b[38;5;28mself\u001b[39m, dict1, overwrite=overwrite)\n",
      "\u001b[36mFile \u001b[39m\u001b[32m/opt/anaconda3/envs/academicpages/lib/python3.12/site-packages/plotly/basedatatypes.py:3992\u001b[39m, in \u001b[36mBaseFigure._perform_update\u001b[39m\u001b[34m(plotly_obj, update_obj, overwrite)\u001b[39m\n\u001b[32m   3989\u001b[39m                 plotly_obj[key] = val\n\u001b[32m   3990\u001b[39m         \u001b[38;5;28;01melse\u001b[39;00m:\n\u001b[32m   3991\u001b[39m             \u001b[38;5;66;03m# Assign non-compound value\u001b[39;00m\n\u001b[32m-> \u001b[39m\u001b[32m3992\u001b[39m             plotly_obj[key] = val\n\u001b[32m   3994\u001b[39m \u001b[38;5;28;01melif\u001b[39;00m \u001b[38;5;28misinstance\u001b[39m(plotly_obj, \u001b[38;5;28mtuple\u001b[39m):\n\u001b[32m   3995\u001b[39m     \u001b[38;5;28;01mif\u001b[39;00m \u001b[38;5;28mlen\u001b[39m(update_obj) == \u001b[32m0\u001b[39m:\n\u001b[32m   3996\u001b[39m         \u001b[38;5;66;03m# Nothing to do\u001b[39;00m\n",
      "\u001b[36mFile \u001b[39m\u001b[32m/opt/anaconda3/envs/academicpages/lib/python3.12/site-packages/plotly/basedatatypes.py:4932\u001b[39m, in \u001b[36mBasePlotlyType.__setitem__\u001b[39m\u001b[34m(self, prop, value)\u001b[39m\n\u001b[32m   4928\u001b[39m         \u001b[38;5;28mself\u001b[39m._set_array_prop(prop, value)\n\u001b[32m   4930\u001b[39m     \u001b[38;5;66;03m# ### Handle simple property ###\u001b[39;00m\n\u001b[32m   4931\u001b[39m     \u001b[38;5;28;01melse\u001b[39;00m:\n\u001b[32m-> \u001b[39m\u001b[32m4932\u001b[39m         \u001b[38;5;28mself\u001b[39m._set_prop(prop, value)\n\u001b[32m   4933\u001b[39m \u001b[38;5;28;01melse\u001b[39;00m:\n\u001b[32m   4934\u001b[39m     \u001b[38;5;66;03m# Make sure properties dict is initialized\u001b[39;00m\n\u001b[32m   4935\u001b[39m     \u001b[38;5;28mself\u001b[39m._init_props()\n",
      "\u001b[36mFile \u001b[39m\u001b[32m/opt/anaconda3/envs/academicpages/lib/python3.12/site-packages/plotly/basedatatypes.py:5276\u001b[39m, in \u001b[36mBasePlotlyType._set_prop\u001b[39m\u001b[34m(self, prop, val)\u001b[39m\n\u001b[32m   5274\u001b[39m         \u001b[38;5;28;01mreturn\u001b[39;00m\n\u001b[32m   5275\u001b[39m     \u001b[38;5;28;01melse\u001b[39;00m:\n\u001b[32m-> \u001b[39m\u001b[32m5276\u001b[39m         \u001b[38;5;28;01mraise\u001b[39;00m err\n\u001b[32m   5278\u001b[39m \u001b[38;5;66;03m# val is None\u001b[39;00m\n\u001b[32m   5279\u001b[39m \u001b[38;5;66;03m# -----------\u001b[39;00m\n\u001b[32m   5280\u001b[39m \u001b[38;5;28;01mif\u001b[39;00m val \u001b[38;5;129;01mis\u001b[39;00m \u001b[38;5;28;01mNone\u001b[39;00m:\n\u001b[32m   5281\u001b[39m     \u001b[38;5;66;03m# Check if we should send null update\u001b[39;00m\n",
      "\u001b[36mFile \u001b[39m\u001b[32m/opt/anaconda3/envs/academicpages/lib/python3.12/site-packages/plotly/basedatatypes.py:5271\u001b[39m, in \u001b[36mBasePlotlyType._set_prop\u001b[39m\u001b[34m(self, prop, val)\u001b[39m\n\u001b[32m   5268\u001b[39m validator = \u001b[38;5;28mself\u001b[39m._get_validator(prop)\n\u001b[32m   5270\u001b[39m \u001b[38;5;28;01mtry\u001b[39;00m:\n\u001b[32m-> \u001b[39m\u001b[32m5271\u001b[39m     val = validator.validate_coerce(val)\n\u001b[32m   5272\u001b[39m \u001b[38;5;28;01mexcept\u001b[39;00m \u001b[38;5;167;01mValueError\u001b[39;00m \u001b[38;5;28;01mas\u001b[39;00m err:\n\u001b[32m   5273\u001b[39m     \u001b[38;5;28;01mif\u001b[39;00m \u001b[38;5;28mself\u001b[39m._skip_invalid:\n",
      "\u001b[36mFile \u001b[39m\u001b[32m/opt/anaconda3/envs/academicpages/lib/python3.12/site-packages/_plotly_utils/basevalidators.py:1374\u001b[39m, in \u001b[36mColorValidator.validate_coerce\u001b[39m\u001b[34m(self, v, should_raise)\u001b[39m\n\u001b[32m   1372\u001b[39m     validated_v = \u001b[38;5;28mself\u001b[39m.vc_scalar(v)\n\u001b[32m   1373\u001b[39m     \u001b[38;5;28;01mif\u001b[39;00m validated_v \u001b[38;5;129;01mis\u001b[39;00m \u001b[38;5;28;01mNone\u001b[39;00m \u001b[38;5;129;01mand\u001b[39;00m should_raise:\n\u001b[32m-> \u001b[39m\u001b[32m1374\u001b[39m         \u001b[38;5;28mself\u001b[39m.raise_invalid_val(v)\n\u001b[32m   1376\u001b[39m     v = validated_v\n\u001b[32m   1378\u001b[39m \u001b[38;5;28;01mreturn\u001b[39;00m v\n",
      "\u001b[36mFile \u001b[39m\u001b[32m/opt/anaconda3/envs/academicpages/lib/python3.12/site-packages/_plotly_utils/basevalidators.py:298\u001b[39m, in \u001b[36mBaseValidator.raise_invalid_val\u001b[39m\u001b[34m(self, v, inds)\u001b[39m\n\u001b[32m    295\u001b[39m             \u001b[38;5;28;01mfor\u001b[39;00m i \u001b[38;5;129;01min\u001b[39;00m inds:\n\u001b[32m    296\u001b[39m                 name += \u001b[33m\"\u001b[39m\u001b[33m[\u001b[39m\u001b[33m\"\u001b[39m + \u001b[38;5;28mstr\u001b[39m(i) + \u001b[33m\"\u001b[39m\u001b[33m]\u001b[39m\u001b[33m\"\u001b[39m\n\u001b[32m--> \u001b[39m\u001b[32m298\u001b[39m         \u001b[38;5;28;01mraise\u001b[39;00m \u001b[38;5;167;01mValueError\u001b[39;00m(\n\u001b[32m    299\u001b[39m \u001b[38;5;250m            \u001b[39m\u001b[33;03m\"\"\"\u001b[39;00m\n\u001b[32m    300\u001b[39m \u001b[33;03m    Invalid value of type {typ} received for the '{name}' property of {pname}\u001b[39;00m\n\u001b[32m    301\u001b[39m \u001b[33;03m        Received value: {v}\u001b[39;00m\n\u001b[32m    302\u001b[39m \n\u001b[32m    303\u001b[39m \u001b[33;03m{valid_clr_desc}\"\"\"\u001b[39;00m.format(\n\u001b[32m    304\u001b[39m                 name=name,\n\u001b[32m    305\u001b[39m                 pname=\u001b[38;5;28mself\u001b[39m.parent_name,\n\u001b[32m    306\u001b[39m                 typ=type_str(v),\n\u001b[32m    307\u001b[39m                 v=\u001b[38;5;28mrepr\u001b[39m(v),\n\u001b[32m    308\u001b[39m                 valid_clr_desc=\u001b[38;5;28mself\u001b[39m.description(),\n\u001b[32m    309\u001b[39m             )\n\u001b[32m    310\u001b[39m         )\n",
      "\u001b[31mValueError\u001b[39m: \n    Invalid value of type 'builtins.str' received for the 'linecolor' property of layout.xaxis\n        Received value: 'currentColor'\n\n    The 'linecolor' property is a color and may be specified as:\n      - A hex string (e.g. '#ff0000')\n      - An rgb/rgba string (e.g. 'rgb(255,0,0)')\n      - An hsl/hsla string (e.g. 'hsl(0,100%,50%)')\n      - An hsv/hsva string (e.g. 'hsv(0,100%,100%)')\n      - A named CSS color: see https://plotly.com/python/css-colors/ for a list"
     ]
    }
   ],
   "source": [
    "# 2) Build citations DataFrame\n",
    "cites = author.get(\"cites_per_year\", {})\n",
    "cites_df = (\n",
    "    pd.DataFrame([{\"year\": int(y), \"per_year\": v} for y, v in cites.items()])\n",
    "      .sort_values(\"year\")\n",
    "      .reset_index(drop=True)\n",
    ")\n",
    "cites_df[\"cumulative\"] = cites_df[\"per_year\"].cumsum()\n",
    "\n",
    "# 3) Make the figure\n",
    "today = datetime.date.today().isoformat()\n",
    "fig = go.Figure()\n",
    "\n",
    "# per‐year bars (black)\n",
    "fig.add_trace(go.Bar(\n",
    "    x=cites_df[\"year\"], \n",
    "    y=cites_df[\"per_year\"],\n",
    "    name=\"Citations per year\",\n",
    "    marker_color=\"black\"\n",
    "))\n",
    "\n",
    "# cumulative line (black)\n",
    "fig.add_trace(go.Scatter(\n",
    "    x=cites_df[\"year\"], \n",
    "    y=cites_df[\"cumulative\"],\n",
    "    mode=\"lines+markers\",\n",
    "    name=\"Cumulative citations\",\n",
    "    line=dict(color=\"black\", width=2),\n",
    "    marker=dict(color=\"black\", size=6)\n",
    "))\n",
    "\n",
    "# 4) Layout styling: transparent, no grids, mirrored axis lines\n",
    "fig.update_layout(\n",
    "    title=f\"Google Scholar H-index: 11\",\n",
    "    template=\"none\",\n",
    "    paper_bgcolor=\"rgba(0,0,0,0)\",\n",
    "    plot_bgcolor=\"rgba(0,0,0,0)\",\n",
    "    xaxis=dict(\n",
    "        title=\"Year\",\n",
    "        showgrid=False,\n",
    "        showline=True,\n",
    "        mirror=True,\n",
    "        linecolor=\"black\",\n",
    "        linewidth=1,\n",
    "        ticks=\"outside\"\n",
    "    ),\n",
    "    yaxis=dict(\n",
    "        title=\"Citations\",\n",
    "        showgrid=False,\n",
    "        showline=True,\n",
    "        mirror=True,\n",
    "        linecolor=\"black\",\n",
    "        linewidth=1,\n",
    "        ticks=\"outside\"\n",
    "    ),\n",
    "    legend=dict(\n",
    "        orientation=\"h\",\n",
    "        yanchor=\"bottom\",\n",
    "        y=1.02,\n",
    "        xanchor=\"right\",\n",
    "        x=1\n",
    "    ),\n",
    "    margin=dict(l=60, r=20, t=80, b=50)\n",
    ")\n",
    "\n",
    "fig.update_layout(\n",
    "    title=None,\n",
    ")\n",
    "\n",
    "# 2) Add a big h-index overlay in the top-left\n",
    "fig.add_annotation(\n",
    "    text=f\"H-index: <b>{current_h}</b>\",\n",
    "    xref=\"paper\", yref=\"paper\",\n",
    "    x=0.02, y=0.98,           # inset from top-left\n",
    "    showarrow=False,\n",
    "    font=dict(size=32, color=\"black\"),\n",
    "    align=\"left\"\n",
    ")\n",
    "\n",
    "\n",
    "# 2) Axes: no grid, crisp bounding box, inherit color\n",
    "fig.update_xaxes(\n",
    "    showgrid=False,\n",
    "    showline=True,\n",
    "    mirror=True,\n",
    "    linecolor=\"currentColor\",\n",
    "    tickcolor=\"currentColor\",\n",
    "    title_font=dict(color=\"currentColor\"),\n",
    "    tickfont=dict(color=\"currentColor\")\n",
    ")\n",
    "fig.update_yaxes(\n",
    "    showgrid=False,\n",
    "    showline=True,\n",
    "    mirror=True,\n",
    "    linecolor=\"currentColor\",\n",
    "    tickcolor=\"currentColor\",\n",
    "    title_font=dict(color=\"currentColor\"),\n",
    "    tickfont=dict(color=\"currentColor\")\n",
    ")\n",
    "\n",
    "# 3) Legend: inherit text color\n",
    "fig.update_layout(\n",
    "    showlegend=True,\n",
    "    legend=dict(\n",
    "        orientation=\"h\",\n",
    "        yanchor=\"bottom\",\n",
    "        y=1.02,\n",
    "        xanchor=\"right\",\n",
    "        x=1,\n",
    "        font=dict(color=\"currentColor\")\n",
    "    )\n",
    ")\n",
    "\n",
    "# 4) Annotation overlay: make sure it also uses currentColor\n",
    "for ann in fig.layout.annotations or []:\n",
    "    ann.font.color = \"currentColor\"\n",
    "\n",
    "    \n",
    "# 5) Export standalone HTML\n",
    "fig.write_html(\"gs_citations.html\", include_plotlyjs=\"cdn\")"
   ]
  },
  {
   "cell_type": "code",
   "execution_count": null,
   "id": "2ac4fa24-7b0a-4709-a419-331c8660968c",
   "metadata": {},
   "outputs": [],
   "source": []
  },
  {
   "cell_type": "code",
   "execution_count": null,
   "id": "bbb3bd34-baa4-43de-b9e4-4b3924fdab50",
   "metadata": {},
   "outputs": [],
   "source": []
  }
 ],
 "metadata": {
  "kernelspec": {
   "display_name": "Python 3 (ipykernel)",
   "language": "python",
   "name": "python3"
  },
  "language_info": {
   "codemirror_mode": {
    "name": "ipython",
    "version": 3
   },
   "file_extension": ".py",
   "mimetype": "text/x-python",
   "name": "python",
   "nbconvert_exporter": "python",
   "pygments_lexer": "ipython3",
   "version": "3.12.11"
  }
 },
 "nbformat": 4,
 "nbformat_minor": 5
}
