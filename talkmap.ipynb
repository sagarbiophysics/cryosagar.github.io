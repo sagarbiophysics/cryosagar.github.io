{
 "cells": [
  {
   "cell_type": "markdown",
   "metadata": {},
   "source": [
    "# Leaflet cluster map of talk locations\n",
    "\n",
    "Assuming you are working in a Linux or Windows Subsystem for Linux environment, you may need to install some dependencies. Assuming a clean installation, the following will be needed:\n",
    "\n",
    "```bash\n",
    "sudo apt install jupyter\n",
    "sudo apt install python3-pip\n",
    "pip install python-frontmatter getorg --upgrade\n",
    "```\n",
    "\n",
    "After which you can run this from the `_talks/` directory, via:\n",
    "\n",
    "```bash\n",
    " jupyter nbconvert --to notebook --execute talkmap.ipynb --output talkmap_out.ipynb\n",
    "```\n",
    " \n",
    "The `_talks/` directory contains `.md` files of all your talks. This scrapes the location YAML field from each `.md` file, geolocates it with `geopy/Nominatim`, and uses the `getorg` library to output data, HTML, and Javascript for a standalone cluster map."
   ]
  },
  {
   "cell_type": "code",
   "execution_count": 1,
   "metadata": {
    "collapsed": false,
    "jupyter": {
     "outputs_hidden": false
    }
   },
   "outputs": [
    {
     "name": "stdout",
     "output_type": "stream",
     "text": [
      "Collecting python-frontmatter\n",
      "  Downloading python_frontmatter-1.1.0-py3-none-any.whl.metadata (4.1 kB)\n",
      "Collecting getorg\n",
      "  Downloading getorg-0.3.1-py2.py3-none-any.whl.metadata (326 bytes)\n",
      "Requirement already satisfied: PyYAML in /opt/anaconda3/envs/academicpages/lib/python3.12/site-packages (from python-frontmatter) (6.0.2)\n",
      "Collecting geopy (from getorg)\n",
      "  Downloading geopy-2.4.1-py3-none-any.whl.metadata (6.8 kB)\n",
      "Collecting pygithub (from getorg)\n",
      "  Downloading PyGithub-2.6.1-py3-none-any.whl.metadata (3.9 kB)\n",
      "Collecting retrying (from getorg)\n",
      "  Downloading retrying-1.4.1-py3-none-any.whl.metadata (7.5 kB)\n",
      "Collecting geographiclib<3,>=1.52 (from geopy->getorg)\n",
      "  Downloading geographiclib-2.0-py3-none-any.whl.metadata (1.4 kB)\n",
      "Collecting pynacl>=1.4.0 (from pygithub->getorg)\n",
      "  Downloading PyNaCl-1.5.0-cp36-abi3-macosx_10_10_universal2.whl.metadata (8.7 kB)\n",
      "Requirement already satisfied: requests>=2.14.0 in /opt/anaconda3/envs/academicpages/lib/python3.12/site-packages (from pygithub->getorg) (2.32.4)\n",
      "Collecting pyjwt>=2.4.0 (from pyjwt[crypto]>=2.4.0->pygithub->getorg)\n",
      "  Downloading PyJWT-2.10.1-py3-none-any.whl.metadata (4.0 kB)\n",
      "Requirement already satisfied: typing-extensions>=4.0.0 in /opt/anaconda3/envs/academicpages/lib/python3.12/site-packages (from pygithub->getorg) (4.14.1)\n",
      "Requirement already satisfied: urllib3>=1.26.0 in /opt/anaconda3/envs/academicpages/lib/python3.12/site-packages (from pygithub->getorg) (2.5.0)\n",
      "Requirement already satisfied: Deprecated in /opt/anaconda3/envs/academicpages/lib/python3.12/site-packages (from pygithub->getorg) (1.2.18)\n",
      "Collecting cryptography>=3.4.0 (from pyjwt[crypto]>=2.4.0->pygithub->getorg)\n",
      "  Downloading cryptography-45.0.5-cp311-abi3-macosx_10_9_universal2.whl.metadata (5.7 kB)\n",
      "Requirement already satisfied: cffi>=1.14 in /opt/anaconda3/envs/academicpages/lib/python3.12/site-packages (from cryptography>=3.4.0->pyjwt[crypto]>=2.4.0->pygithub->getorg) (1.17.1)\n",
      "Requirement already satisfied: pycparser in /opt/anaconda3/envs/academicpages/lib/python3.12/site-packages (from cffi>=1.14->cryptography>=3.4.0->pyjwt[crypto]>=2.4.0->pygithub->getorg) (2.21)\n",
      "Requirement already satisfied: charset_normalizer<4,>=2 in /opt/anaconda3/envs/academicpages/lib/python3.12/site-packages (from requests>=2.14.0->pygithub->getorg) (3.3.2)\n",
      "Requirement already satisfied: idna<4,>=2.5 in /opt/anaconda3/envs/academicpages/lib/python3.12/site-packages (from requests>=2.14.0->pygithub->getorg) (3.7)\n",
      "Requirement already satisfied: certifi>=2017.4.17 in /opt/anaconda3/envs/academicpages/lib/python3.12/site-packages (from requests>=2.14.0->pygithub->getorg) (2025.7.14)\n",
      "Requirement already satisfied: wrapt<2,>=1.10 in /opt/anaconda3/envs/academicpages/lib/python3.12/site-packages (from Deprecated->pygithub->getorg) (1.17.2)\n",
      "Downloading python_frontmatter-1.1.0-py3-none-any.whl (9.8 kB)\n",
      "Downloading getorg-0.3.1-py2.py3-none-any.whl (39 kB)\n",
      "Downloading geopy-2.4.1-py3-none-any.whl (125 kB)\n",
      "Downloading geographiclib-2.0-py3-none-any.whl (40 kB)\n",
      "Downloading PyGithub-2.6.1-py3-none-any.whl (410 kB)\n",
      "Downloading PyJWT-2.10.1-py3-none-any.whl (22 kB)\n",
      "Downloading cryptography-45.0.5-cp311-abi3-macosx_10_9_universal2.whl (7.0 MB)\n",
      "\u001b[2K   \u001b[90m━━━━━━━━━━━━━━━━━━━━━━━━━━━━━━━━━━━━━━━━\u001b[0m \u001b[32m7.0/7.0 MB\u001b[0m \u001b[31m51.8 MB/s\u001b[0m eta \u001b[36m0:00:00\u001b[0m\n",
      "\u001b[?25hDownloading PyNaCl-1.5.0-cp36-abi3-macosx_10_10_universal2.whl (349 kB)\n",
      "Downloading retrying-1.4.1-py3-none-any.whl (12 kB)\n",
      "Installing collected packages: retrying, python-frontmatter, pyjwt, geographiclib, pynacl, geopy, cryptography, pygithub, getorg\n",
      "\u001b[2K   \u001b[90m━━━━━━━━━━━━━━━━━━━━━━━━━━━━━━━━━━━━━━━━\u001b[0m \u001b[32m9/9\u001b[0m [getorg]2m7/9\u001b[0m [pygithub]\n",
      "\u001b[1A\u001b[2KSuccessfully installed cryptography-45.0.5 geographiclib-2.0 geopy-2.4.1 getorg-0.3.1 pygithub-2.6.1 pyjwt-2.10.1 pynacl-1.5.0 python-frontmatter-1.1.0 retrying-1.4.1\n",
      "Iywidgets and ipyleaflet support disabled. You must be in a Jupyter notebook to use this feature.\n",
      "Error raised:\n",
      "No module named 'ipyleaflet'\n",
      "Check that you have enabled ipyleaflet in Jupyter with:\n",
      "    jupyter nbextension enable --py ipyleaflet\n"
     ]
    }
   ],
   "source": [
    "# Start by installing the dependencies\n",
    "!pip install python-frontmatter getorg --upgrade\n",
    "import frontmatter\n",
    "import glob\n",
    "import getorg\n",
    "from geopy import Nominatim\n",
    "from geopy.exc import GeocoderTimedOut"
   ]
  },
  {
   "cell_type": "code",
   "execution_count": 2,
   "metadata": {
    "collapsed": false,
    "jupyter": {
     "outputs_hidden": false
    }
   },
   "outputs": [],
   "source": [
    "# Collect the Markdown files\n",
    "g = glob.glob(\"_talks/*.md\")"
   ]
  },
  {
   "cell_type": "code",
   "execution_count": 3,
   "metadata": {},
   "outputs": [],
   "source": [
    "# Set the default timeout, in seconds\n",
    "TIMEOUT = 5\n",
    "\n",
    "# Prepare to geolocate\n",
    "geocoder = Nominatim(user_agent=\"academicpages.github.io\")\n",
    "location_dict = {}\n",
    "location = \"\"\n",
    "permalink = \"\"\n",
    "title = \"\""
   ]
  },
  {
   "cell_type": "markdown",
   "metadata": {},
   "source": [
    "In the event that this times out with an error, double check to make sure that the location is can be properly geolocated."
   ]
  },
  {
   "cell_type": "code",
   "execution_count": 4,
   "metadata": {
    "collapsed": false,
    "jupyter": {
     "outputs_hidden": false
    }
   },
   "outputs": [
    {
     "name": "stdout",
     "output_type": "stream",
     "text": [
      "Imaging Biological Macromolecules in Native Environments Using Cryo-Electron Tomography<br />Interdisciplinary Center for Nanostructured Films, FAU Erlangen-Nürnberg; Erlangen, Germany Erlangen, Bayern, Deutschland\n",
      "Subnanometer Resolution in Cryo-Electron Tomography (Cryo-ET) - Novel Hardware and Software Solutions<br />Research and Technology Seminar Series, Max Planck Institute of Biochemistry; Martinsried, Germany Martinsried, Planegg, Landkreis München, Bayern, 82166, Deutschland\n",
      "What Will It Take to Understand Biology with Cryo-Electron Tomography and Subtomogram Averaging? Moving from Breathtaking Renderings to Quantitative, Context-Aware Visual Proteomics<br />Integrated Structural Biology Department, IGBMC; Strasbourg, France Strasbourg, Bas-Rhin, Grand Est, France métropolitaine, France\n",
      "Towards Visual Proteomics: A High-Throughput Collaborative In Situ Cryo-ET Approach<br />Inaugural Symposium of the Cryo-ET Platform, Universidade Federal do Rio de Janeiro; Rio de Janeiro, Brazil Rio de Janeiro, Região Geográfica Imediata do Rio de Janeiro, Região Metropolitana do Rio de Janeiro, Região Geográfica Intermediária do Rio de Janeiro, Rio de Janeiro, Região Sudeste, Brasil\n",
      "4D-STEM in Life Sciences: Present and Future Opportunities<br />4D-STEM Steering Group, Thermo Fisher Scientific; Eindhoven, The Netherlands Eindhoven, Noord-Brabant, Nederland\n",
      "Imaging Biological Macromolecules in Native Environments: Is Cryo-Electron Tomography the Answer?<br />Department of Bioengineering and Therapeutic Sciences, UCSF; San Francisco, USA San Francisco, California, United States\n",
      "Workflows for High-Resolution, High-Throughput Subtomogram Averaging<br />Bioimaging Methods Seminar Series, CSSB; Hamburg, Germany Hamburg, Deutschland\n",
      "Towards Hierarchical Multimodal Cryo-Electron Microscopy for Cell Biology<br />PICO 2024, Eighth Conference on Frontiers of Aberration Corrected Electron Microscopy; The Netherlands Nederland\n",
      "Reflections on Community Driven Visual Proteomics at Scale: What Will It Take to Understand Biology with It?<br />Institute of Molecular Biology & Biophysics, ETH; Zurich, Switzerland Zürich, Bezirk Zürich, Zürich, Schweiz/Suisse/Svizzera/Svizra\n",
      "TOMOMAN-STOPGAP Workflows for High-Resolution, High-Throughput Subtomogram Averaging<br />SPACET 2023, BIOCEV; Prague, Czech Republic Praha, obvod Praha 4, Hlavní město Praha, Praha, Česko\n",
      "Developments in Cryo-ET: Fiddling with the Code and Instruments<br />CEITEC; Brno, Czech Republic Brno, okres Brno-město, Jihomoravský kraj, Jihovýchod, Česko\n",
      "Imaging Biological Macromolecules in Native Environments<br />Centre for Computational Biology, Flatiron Institute; New York City, USA City of New York, New York, United States\n",
      "Imaging Biological Macromolecules in Native Environments<br />New York Structural Biology Center; New York City, USA City of New York, New York, United States\n"
     ]
    }
   ],
   "source": [
    "# Perform geolocation\n",
    "for file in g:\n",
    "    # Read the file\n",
    "    data = frontmatter.load(file)\n",
    "    data = data.to_dict()\n",
    "\n",
    "    # Press on if the location is not present\n",
    "    if 'location' not in data:\n",
    "        continue\n",
    "\n",
    "    # Prepare the description\n",
    "    title = data['title'].strip()\n",
    "    venue = data['venue'].strip()\n",
    "    location = data['location'].strip()\n",
    "    description = f\"{title}<br />{venue}; {location}\"\n",
    "\n",
    "    # Geocode the location and report the status\n",
    "    try:\n",
    "        location_dict[description] = geocoder.geocode(location, timeout=TIMEOUT)\n",
    "        print(description, location_dict[description])\n",
    "    except ValueError as ex:\n",
    "        print(f\"Error: geocode failed on input {location} with message {ex}\")\n",
    "    except GeocoderTimedOut as ex:\n",
    "        print(f\"Error: geocode timed out on input {location} with message {ex}\")\n",
    "    except Exception as ex:\n",
    "        print(f\"An unhandled exception occurred while processing input {location} with message {ex}\")"
   ]
  },
  {
   "cell_type": "code",
   "execution_count": 5,
   "metadata": {
    "collapsed": false,
    "jupyter": {
     "outputs_hidden": false
    }
   },
   "outputs": [
    {
     "data": {
      "text/plain": [
       "'Written map to talkmap/'"
      ]
     },
     "execution_count": 5,
     "metadata": {},
     "output_type": "execute_result"
    }
   ],
   "source": [
    "# Save the map\n",
    "m = getorg.orgmap.create_map_obj()\n",
    "getorg.orgmap.output_html_cluster_map(location_dict, folder_name=\"talkmap\", hashed_usernames=False)"
   ]
  },
  {
   "cell_type": "code",
   "execution_count": null,
   "metadata": {
    "collapsed": true,
    "jupyter": {
     "outputs_hidden": true
    }
   },
   "outputs": [],
   "source": []
  }
 ],
 "metadata": {
  "anaconda-cloud": {},
  "kernelspec": {
   "display_name": "Python 3 (ipykernel)",
   "language": "python",
   "name": "python3"
  },
  "language_info": {
   "codemirror_mode": {
    "name": "ipython",
    "version": 3
   },
   "file_extension": ".py",
   "mimetype": "text/x-python",
   "name": "python",
   "nbconvert_exporter": "python",
   "pygments_lexer": "ipython3",
   "version": "3.12.11"
  }
 },
 "nbformat": 4,
 "nbformat_minor": 4
}
